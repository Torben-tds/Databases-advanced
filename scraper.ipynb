{
 "cells": [
  {
   "cell_type": "markdown",
   "metadata": {},
   "source": [
    "Web scraper "
   ]
  },
  {
   "cell_type": "code",
   "execution_count": 2,
   "metadata": {},
   "outputs": [],
   "source": [
    "import requests\n",
    "from bs4 import BeautifulSoup\n",
    "from time import time, sleep"
   ]
  },
  {
   "cell_type": "code",
   "execution_count": 15,
   "metadata": {},
   "outputs": [
    {
     "name": "stdout",
     "output_type": "stream",
     "text": [
      "['Hash', '06d57dcef0ae17b0fddf7b95f9204e595ca59767d1a004237da8f71d68e61984', 'Time', '17:05', 'Amount', '(BTC)', '2.55873728', 'BTC', 'Amount', '(USD)', '$99,242.88']\n",
      "\n",
      "['Hash', 'b4a499687573a9ecd2168cc50cb43a7f709080e72504d082e95af93822c7412f', 'Time', '17:05', 'Amount', '(BTC)', '3.97919950', 'BTC', 'Amount', '(USD)', '$154,336.75']\n",
      "\n",
      "['Hash', '4bc3d8a1f125ecd223434eb75e4d8b94cddc6faa70182059a090b19962977db6', 'Time', '17:05', 'Amount', '(BTC)', '6.23040790', 'BTC', 'Amount', '(USD)', '$241,651.85']\n",
      "\n",
      "['Hash', '72d9b77b54036866112580df4f63568aa23b2e5d16e895026a5de5c4aeab1c13', 'Time', '17:05', 'Amount', '(BTC)', '10.42806563', 'BTC', 'Amount', '(USD)', '$404,461.70']\n",
      "\n",
      "['Hash', 'db954685133c28dc62ebe08ea0849cefd123a93a099b9c762adf4c399c72721a', 'Time', '17:05', 'Amount', '(BTC)', '474.18972717', 'BTC', 'Amount', '(USD)', '$18,391,865.86']\n",
      "\n"
     ]
    }
   ],
   "source": [
    "request = requests.get(\"https://www.blockchain.com/btc/unconfirmed-transactions\")\n",
    "soup = BeautifulSoup(request.text)\n",
    "soup2 = BeautifulSoup(soup.prettify())\n",
    "h = soup2.findAll(\"div\", class_=\"sc-1g6z4xm-0 hXyplo\")\n",
    "toplist = []\n",
    "hlist = []\n",
    "flag = True\n",
    "flag2 = False\n",
    "\n",
    "while flag == True:\n",
    "    for x in h:\n",
    "        y = x.getText()\n",
    "        z = y.replace(\"\\n\",\"\")\n",
    "        z2 = z.replace(\"', ' \",\"\")\n",
    "        z2 = z2.strip()\n",
    "        hlist.append(z2)\n",
    "\n",
    "    for item in hlist:\n",
    "        item = item.split()\n",
    "        price = item[10].lstrip('$')\n",
    "        price = price.replace(\",\" , \"\")\n",
    "        price = price.replace(\".\" , \"\")\n",
    "        price = int(price)\n",
    "        item.insert(0,price)\n",
    "\n",
    "        for i in toplist:\n",
    "            if item > i:\n",
    "                flag2 = True\n",
    "\n",
    "        if len(toplist) < 6:\n",
    "            toplist.append(item)\n",
    "            toplist.sort(key=lambda x: x[0])\n",
    "            flag2 = False\n",
    "            \n",
    "        if len(toplist) > 5:\n",
    "            toplist.sort(key=lambda x: x[0])\n",
    "            toplist.pop(0)\n",
    "    \n",
    "    for item in toplist:\n",
    "        print(item[1:])\n",
    "        print()\n",
    "    #flag = False\n",
    "    sleep(60)\n",
    "    toplist = []\n",
    "    hlist = []\n",
    "        \n"
   ]
  }
 ],
 "metadata": {
  "interpreter": {
   "hash": "848b1af300d39fc36debc164e8f620ff35637f320f8e733dd1dbf5e623113662"
  },
  "kernelspec": {
   "display_name": "Python 3.10.2 64-bit",
   "language": "python",
   "name": "python3"
  },
  "language_info": {
   "codemirror_mode": {
    "name": "ipython",
    "version": 3
   },
   "file_extension": ".py",
   "mimetype": "text/x-python",
   "name": "python",
   "nbconvert_exporter": "python",
   "pygments_lexer": "ipython3",
   "version": "3.10.2"
  },
  "orig_nbformat": 4
 },
 "nbformat": 4,
 "nbformat_minor": 2
}
