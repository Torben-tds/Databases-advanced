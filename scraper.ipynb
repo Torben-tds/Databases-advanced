{
 "cells": [
  {
   "cell_type": "markdown",
   "metadata": {},
   "source": [
    "Web scraper "
   ]
  },
  {
   "cell_type": "code",
   "execution_count": 2,
   "metadata": {},
   "outputs": [],
   "source": [
    "import requests\n",
    "from bs4 import BeautifulSoup\n",
    "from time import time, sleep"
   ]
  },
  {
   "cell_type": "code",
   "execution_count": 48,
   "metadata": {},
   "outputs": [
    {
     "name": "stdout",
     "output_type": "stream",
     "text": [
      "['Hash', '789a7cccacd2667c38cac12049354d8720791d765e44fa719fa90384dbdd46a1', 'Time', '18:16', 'Amount', '(BTC)', '0.08674000', 'BTC', 'Amount', '(USD)', '$3,389.93']\n",
      "\n",
      "['Hash', 'b8cf900ca96a812270d21405cf8df0a122aee8e39a57e4ca0046f5707a7d159a', 'Time', '18:16', 'Amount', '(BTC)', '0.09981389', 'BTC', 'Amount', '(USD)', '$3,900.88']\n",
      "\n",
      "['Hash', '96662fbd26fafd3e74dd46b0c15f3b0015b4e819a9d2fb7c58a47d8a73abe971', 'Time', '18:16', 'Amount', '(BTC)', '0.25411242', 'BTC', 'Amount', '(USD)', '$9,931.11']\n",
      "\n",
      "['Hash', '3a72a6bef42538bfaa8e68677568851e4f4f8920e10e09863f5e2da993f2d355', 'Time', '18:16', 'Amount', '(BTC)', '0.90254793', 'BTC', 'Amount', '(USD)', '$35,272.97']\n",
      "\n",
      "['Hash', 'b48e446f27fb7b6ec9d090005a0f3b85ba255adb61bd1532af6086dc337cf878', 'Time', '18:16', 'Amount', '(BTC)', '9.78179406', 'BTC', 'Amount', '(USD)', '$382,287.67']\n",
      "\n",
      "['Hash', '789a7cccacd2667c38cac12049354d8720791d765e44fa719fa90384dbdd46a1', 'Time', '18:16', 'Amount', '(BTC)', '0.08674000', 'BTC', 'Amount', '(USD)', '$3,389.93']\n",
      "\n",
      "['Hash', 'b8cf900ca96a812270d21405cf8df0a122aee8e39a57e4ca0046f5707a7d159a', 'Time', '18:16', 'Amount', '(BTC)', '0.09981389', 'BTC', 'Amount', '(USD)', '$3,900.88']\n",
      "\n",
      "['Hash', '96662fbd26fafd3e74dd46b0c15f3b0015b4e819a9d2fb7c58a47d8a73abe971', 'Time', '18:16', 'Amount', '(BTC)', '0.25411242', 'BTC', 'Amount', '(USD)', '$9,931.11']\n",
      "\n",
      "['Hash', '3a72a6bef42538bfaa8e68677568851e4f4f8920e10e09863f5e2da993f2d355', 'Time', '18:16', 'Amount', '(BTC)', '0.90254793', 'BTC', 'Amount', '(USD)', '$35,272.97']\n",
      "\n",
      "['Hash', 'b48e446f27fb7b6ec9d090005a0f3b85ba255adb61bd1532af6086dc337cf878', 'Time', '18:16', 'Amount', '(BTC)', '9.78179406', 'BTC', 'Amount', '(USD)', '$382,287.67']\n",
      "\n"
     ]
    },
    {
     "ename": "KeyboardInterrupt",
     "evalue": "",
     "output_type": "error",
     "traceback": [
      "\u001b[1;31m---------------------------------------------------------------------------\u001b[0m",
      "\u001b[1;31mKeyboardInterrupt\u001b[0m                         Traceback (most recent call last)",
      "\u001b[1;32mc:\\Users\\Gebruiker\\Desktop\\Databases advanced\\scraper.ipynb Cell 3'\u001b[0m in \u001b[0;36m<module>\u001b[1;34m\u001b[0m\n\u001b[0;32m     <a href='vscode-notebook-cell:/c%3A/Users/Gebruiker/Desktop/Databases%20advanced/scraper.ipynb#ch0000002?line=33'>34</a>\u001b[0m     \u001b[39mprint\u001b[39m()\n\u001b[0;32m     <a href='vscode-notebook-cell:/c%3A/Users/Gebruiker/Desktop/Databases%20advanced/scraper.ipynb#ch0000002?line=34'>35</a>\u001b[0m \u001b[39m#flag = False\u001b[39;00m\n\u001b[1;32m---> <a href='vscode-notebook-cell:/c%3A/Users/Gebruiker/Desktop/Databases%20advanced/scraper.ipynb#ch0000002?line=35'>36</a>\u001b[0m sleep(\u001b[39m5\u001b[39;49m)\n\u001b[0;32m     <a href='vscode-notebook-cell:/c%3A/Users/Gebruiker/Desktop/Databases%20advanced/scraper.ipynb#ch0000002?line=36'>37</a>\u001b[0m toplist \u001b[39m=\u001b[39m []\n\u001b[0;32m     <a href='vscode-notebook-cell:/c%3A/Users/Gebruiker/Desktop/Databases%20advanced/scraper.ipynb#ch0000002?line=37'>38</a>\u001b[0m hlist \u001b[39m=\u001b[39m []\n",
      "\u001b[1;31mKeyboardInterrupt\u001b[0m: "
     ]
    }
   ],
   "source": [
    "request = requests.get(\"https://www.blockchain.com/btc/unconfirmed-transactions\")\n",
    "soup = BeautifulSoup(request.text)\n",
    "soup2 = BeautifulSoup(soup.prettify())\n",
    "h = soup2.findAll(\"div\", class_=\"sc-1g6z4xm-0 hXyplo\")\n",
    "toplist = []\n",
    "hlist = []\n",
    "flag = True\n",
    "\n",
    "while flag == True:\n",
    "    for x in h:\n",
    "        y = x.getText()\n",
    "        z = y.replace(\"\\n\",\"\")\n",
    "        z2 = z.replace(\"', ' \",\"\")\n",
    "        z2 = z2.strip()\n",
    "        hlist.append(z2)\n",
    "\n",
    "    for item in hlist:\n",
    "        item = item.split()\n",
    "        price = item[10].lstrip('$')\n",
    "        price = price.replace(\",\" , \"\")\n",
    "        price = price.replace(\".\" , \"\")\n",
    "        price = int(price)\n",
    "        item.insert(0,price)\n",
    "\n",
    "        if len(toplist) < 6 and all(i[0] < price for i in toplist) == True:\n",
    "            toplist.append(item)\n",
    "            \n",
    "        if len(toplist) > 5:\n",
    "            sorted(toplist, key=lambda x: x[0])\n",
    "            toplist.pop(0)\n",
    "    \n",
    "    for item in toplist:\n",
    "        print(item[1:])\n",
    "        print()\n",
    "    #flag = False\n",
    "    sleep(60)\n",
    "    toplist = []\n",
    "    hlist = []\n",
    "        \n"
   ]
  }
 ],
 "metadata": {
  "interpreter": {
   "hash": "848b1af300d39fc36debc164e8f620ff35637f320f8e733dd1dbf5e623113662"
  },
  "kernelspec": {
   "display_name": "Python 3.10.2 64-bit",
   "language": "python",
   "name": "python3"
  },
  "language_info": {
   "codemirror_mode": {
    "name": "ipython",
    "version": 3
   },
   "file_extension": ".py",
   "mimetype": "text/x-python",
   "name": "python",
   "nbconvert_exporter": "python",
   "pygments_lexer": "ipython3",
   "version": "3.10.2"
  },
  "orig_nbformat": 4
 },
 "nbformat": 4,
 "nbformat_minor": 2
}
